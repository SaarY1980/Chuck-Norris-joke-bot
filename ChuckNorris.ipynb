{
 "cells": [
  {
   "cell_type": "code",
   "execution_count": null,
   "id": "72f9a14f-9650-4318-97a6-fc75f5dbad22",
   "metadata": {},
   "outputs": [],
   "source": [
    "import requests\n",
    "import random\n",
    "\n",
    "starters = [\"Have you heard this one?\", \"Wanna hear a good one?\", \"Okay, check this out...\", \"Get ready for this!\",\n",
    "            \"This one's a classic...\", \"You’re gonna love this one.\", \"Here’s a good one for you.\", \"Brace yourself...\", \"Ever heard this joke?\",\n",
    "            \"Alright, here goes nothing!\"]\n",
    "while True:\n",
    "    subject = input(\"Subject of a Chuck Norris joke? (or 'stop' to quit) \")\n",
    "    if subject.lower() == \"stop\":\n",
    "        break\n",
    "    url = f\"https://api.chucknorris.io/jokes/search?query={subject}\"\n",
    "    response = requests.get(url)\n",
    "    data = response.json()\n",
    "    if not data[\"result\"]:\n",
    "        print(\"Even Chuck Norris wouldn't joke about this.\\n\")\n",
    "        continue\n",
    "    joke = random.choice(data[\"result\"])[\"value\"]\n",
    "    starter = random.choice(starters)\n",
    "    print(starter + \" \" + joke + \"\\n\")\n",
    "    "
   ]
  },
  {
   "cell_type": "code",
   "execution_count": null,
   "id": "be77dd33-c47e-4128-8465-014dad91e96c",
   "metadata": {},
   "outputs": [],
   "source": []
  }
 ],
 "metadata": {
  "kernelspec": {
   "display_name": "Python 3 (ipykernel)",
   "language": "python",
   "name": "python3"
  },
  "language_info": {
   "codemirror_mode": {
    "name": "ipython",
    "version": 3
   },
   "file_extension": ".py",
   "mimetype": "text/x-python",
   "name": "python",
   "nbconvert_exporter": "python",
   "pygments_lexer": "ipython3",
   "version": "3.12.7"
  }
 },
 "nbformat": 4,
 "nbformat_minor": 5
}
